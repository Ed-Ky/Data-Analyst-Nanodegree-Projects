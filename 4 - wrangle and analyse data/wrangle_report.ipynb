{
 "cells": [
  {
   "cell_type": "markdown",
   "metadata": {},
   "source": [
    "The data was loaded into pandas dataframes. I chose to use the tweet data provided by Udacity because I had trouble applying for a Twitter developer account. Visual and programmatic assessment of the three tables revealed the following issues:"
   ]
  },
  {
   "cell_type": "markdown",
   "metadata": {},
   "source": [
    "#### **Quality Issues**"
   ]
  },
  {
   "cell_type": "markdown",
   "metadata": {},
   "source": [
    "##### `tweets` table  \n",
    "- Source column contained unnecessary html tags  \n",
    "- Some dog’s names were incorrectly extracted  \n",
    "- text column values contained links  \n",
    "- timestamp data type was incorrect  \n",
    "- timestamp is in UTC(GMT) time zone.  \n",
    "- table contained tweets retweeted by WeRateDogs.   \n",
    "- contains data on tweets retweeted by WeRateDogs ie not original tweets\n",
    "\n",
    "\n",
    "#####  `predictions` table  \n",
    "- predicted dog breed names contained underscores   \n",
    "- predicted dog breed names are not consistently formatted \n",
    "\n",
    "\n",
    "#####  `tweet_data` table     \n",
    "- unwanted columns present   "
   ]
  },
  {
   "cell_type": "markdown",
   "metadata": {},
   "source": [
    "#### **Tidiness Issues**   "
   ]
  },
  {
   "cell_type": "markdown",
   "metadata": {},
   "source": [
    "- dog stage divided into multiple columns instead of 1 in the `tweets` table    \n",
    "- columns in `tweet_data` and `predictions` should be part of the `tweets` table  \n",
    "- too many possible dog breeds in `predictions`  "
   ]
  },
  {
   "cell_type": "markdown",
   "metadata": {},
   "source": [
    "### **Summary of cleaning steps**"
   ]
  },
  {
   "cell_type": "markdown",
   "metadata": {},
   "source": [
    "#### **Quality**"
   ]
  },
  {
   "cell_type": "markdown",
   "metadata": {},
   "source": [
    "##### **`tweets` table**\n",
    "- content extracted from html in source column using BeautifulSoup, then html deleted.  \n",
    "- incorrect names found by parsing through name column to find all-lowercase words. tweets with these names were printed to observe patterns to exploit for name extraction. 2 popular patterns were found and used to extract name by custom function. the rest of the lowercase words were replaced with the placeholder \"None\".  \n",
    "- http links in text column were removed using a regex substitution with an empty string.  \n",
    "- timestamp column datatype changed using pd.to_datetime method.  \n",
    "- timestamp timezone changed to home location of WeRateDogs creator's area of residence (US/Eastern).  \n",
    "- retweets were removed by deleting rows with non-NaN retweeted_status_id value.  \n",
    "- unwanted columns were dropped from the tweets table.  \n",
    "  \n",
    "##### **`predictions` table**  \n",
    "- underscores were removed from the predicted dog breed names using the replace method.  \n",
    "- predicted dog breed names were changed to titlecase.\n",
    "  \n",
    "##### **`tweet_data` table**  \n",
    "- unwanted columns removed using df.drop method."
   ]
  },
  {
   "cell_type": "markdown",
   "metadata": {},
   "source": [
    "#### **Tidiness**  "
   ]
  },
  {
   "cell_type": "markdown",
   "metadata": {},
   "source": [
    "- dog stage extracted using str.extract to create dog_stage column. individual stage columns dropped.  \n",
    "- the first True dog prediction was extracted from the columns, along with the corresponding confidence and prediction rank. the original columns were then dropped.  \n",
    "- renames id column as tweet_id in `tweet_data` table, then merged with `tweets` and `predictions` tables into `combined` table.  "
   ]
  },
  {
   "cell_type": "markdown",
   "metadata": {},
   "source": [
    "##### the `combined` master table was then exported to a csv file `combined.csv`"
   ]
  }
 ],
 "metadata": {
  "kernelspec": {
   "display_name": "Python 3",
   "language": "python",
   "name": "python3"
  },
  "language_info": {
   "codemirror_mode": {
    "name": "ipython",
    "version": 3
   },
   "file_extension": ".py",
   "mimetype": "text/x-python",
   "name": "python",
   "nbconvert_exporter": "python",
   "pygments_lexer": "ipython3",
   "version": "3.6.3"
  }
 },
 "nbformat": 4,
 "nbformat_minor": 2
}
