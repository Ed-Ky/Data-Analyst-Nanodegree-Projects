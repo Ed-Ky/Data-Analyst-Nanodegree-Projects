{
 "cells": [
  {
   "cell_type": "markdown",
   "metadata": {},
   "source": [
    "### Preliminary Wrangling"
   ]
  },
  {
   "cell_type": "markdown",
   "metadata": {},
   "source": [
    "- Datasets were imported using pandas. \n",
    "- The delayed flight dataset was explored visually and programmatically. \n",
    "- The only cleaning needed was change of data types, tidying of datetime values, removal of duplicates and dropping unwanted columns.\n",
    "- Dictionaries containing data from the 2 supplementary IATA Airports and Carrier datasets were created to aid in interpretation in the later exploration. "
   ]
  },
  {
   "cell_type": "markdown",
   "metadata": {},
   "source": [
    "### Univariate Exploration"
   ]
  },
  {
   "cell_type": "markdown",
   "metadata": {},
   "source": [
    "- Arrival delay was visually displayed using a histogram and violinplot. These showed presence of high outliers. The visualizations were repeated with high outliers removed. This made the shape of the distribution more visible and aesthetically pleasing. The histograms were accompanied by vertical lines denoting the maximum and minimum values in teh distribution.    \n",
    "- Delay causes were displayed together because of their similarity. Bar charts were used.   \n",
    "- FlightStatus, a de novo variable, was displayed using an annottated bar chart.   \n",
    "- Flight date was explored by way of its individual components ie data, month, day of week, day of month and time.   \n",
    "- Unique carrier was dsiplayed using a horisontal barchart of the carrier value counts in ascending order.   \n",
    "- Only the top 20 Origin and Destination airport were explored. These were displayed programmatically and visually on a rendered map of the United States to show their actual location using coordinates from the IATA Airport dictionary and map display tool Mapbox.   \n",
    "- Cancellation codes for only canccelled flights were displayed using a bar chart. Only cancelled flights were explored in this step to allow for visualization of the individual causes, which would have been lost if all flights had been displayed. "
   ]
  },
  {
   "cell_type": "markdown",
   "metadata": {},
   "source": [
    "### Bivariate Exploration"
   ]
  },
  {
   "cell_type": "markdown",
   "metadata": {},
   "source": [
    "- A heatmap with annottated Pearson coefficient values was used in tandem with a scatter pairplot to show correlation between numeric variables. Correlation was seen between CarrierDelay, NASDelay, LateAircraftDelay and ArrDelay, which was expected. \n",
    "- Arrival delay was explored in comparison with Month of the year, day of the week, unique carrier and flight destination. \n",
    "- Diverted and Cancelled flights were explored in comparison with unique carrier. There was decrease in total diverted and cancelled flight totals with a decrease in the total flights operated.\n",
    "- CarrierDelay and LateAircraftDelay were explored in comparison with unique carrier. No trends were observed in these charts.\n",
    "- NASDelay was explored with the top 20 mean NASDelay destination airports. "
   ]
  },
  {
   "cell_type": "markdown",
   "metadata": {},
   "source": [
    "### Multivariate Exploration"
   ]
  },
  {
   "cell_type": "markdown",
   "metadata": {},
   "source": [
    "- A barchart of mean arrival delay per carrier in order of descending total fligths operated per carrier was the first chart. An observed trend is that carriers with fewer flights had more widely distributed arrival delay durations. \n",
    "- 15 day rolling window linecharts of mean and total delay per delay cause for the year 2008 were shown next. The trends of total carrier, national air service and late aircraft delays follow the same pattern as the mean arrival delay for the duration of 2008. Late aircraft delay has the highest mean duration for most of 2008. Carrier delay does not follow the general trends of the other two causes. \n",
    "- 15 minute rolling average delay duration per cause for 24 hours was displayed using a linechart, showing carrier delay as the major delay from 6am to 11am and late aircraft being the major delay thereafter. \n",
    "- A linechart of the mean delay causes per hour was shown next. It showed the same trend as the above-mentioned linechart. "
   ]
  }
 ],
 "metadata": {
  "kernelspec": {
   "display_name": "Python 3",
   "language": "python",
   "name": "python3"
  },
  "language_info": {
   "codemirror_mode": {
    "name": "ipython",
    "version": 3
   },
   "file_extension": ".py",
   "mimetype": "text/x-python",
   "name": "python",
   "nbconvert_exporter": "python",
   "pygments_lexer": "ipython3",
   "version": "3.7.4"
  }
 },
 "nbformat": 4,
 "nbformat_minor": 2
}
